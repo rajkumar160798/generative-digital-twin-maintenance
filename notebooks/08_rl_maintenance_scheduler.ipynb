{
 "cells": [
  {
   "cell_type": "markdown",
   "id": "36e5cbb2",
   "metadata": {},
   "source": [
    "# RL-Based Cost-Aware Maintenance Scheduling\n",
    "This notebook demonstrates how reinforcement learning can be used to schedule maintenance based on predicted RUL values, cost trade-offs, and risk of failure.\n",
    "It aligns with reviewer suggestions on dynamic optimization and actionable decision-making."
   ]
  },
  {
   "cell_type": "code",
   "execution_count": 3,
   "id": "38093ffc",
   "metadata": {},
   "outputs": [
    {
     "name": "stdout",
     "output_type": "stream",
     "text": [
      "Requirement already satisfied: gym in /Users/rajkumarmyakala/.pyenv/versions/3.10.14/lib/python3.10/site-packages (0.26.2)\n",
      "Requirement already satisfied: numpy>=1.18.0 in /Users/rajkumarmyakala/.pyenv/versions/3.10.14/lib/python3.10/site-packages (from gym) (1.24.4)\n",
      "Requirement already satisfied: gym_notices>=0.0.4 in /Users/rajkumarmyakala/.pyenv/versions/3.10.14/lib/python3.10/site-packages (from gym) (0.0.8)\n",
      "Requirement already satisfied: cloudpickle>=1.2.0 in /Users/rajkumarmyakala/.pyenv/versions/3.10.14/lib/python3.10/site-packages (from gym) (3.1.1)\n",
      "\n",
      "\u001b[1m[\u001b[0m\u001b[34;49mnotice\u001b[0m\u001b[1;39;49m]\u001b[0m\u001b[39;49m A new release of pip is available: \u001b[0m\u001b[31;49m23.0.1\u001b[0m\u001b[39;49m -> \u001b[0m\u001b[32;49m25.1.1\u001b[0m\n",
      "\u001b[1m[\u001b[0m\u001b[34;49mnotice\u001b[0m\u001b[1;39;49m]\u001b[0m\u001b[39;49m To update, run: \u001b[0m\u001b[32;49mpip install --upgrade pip\u001b[0m\n",
      "Note: you may need to restart the kernel to use updated packages.\n"
     ]
    }
   ],
   "source": [
    "import numpy as np\n",
    "import matplotlib.pyplot as plt\n",
    "import random\n",
    "%pip install gym\n",
    "import gym\n",
    "from gym import spaces\n",
    "\n",
    "np.random.seed(42)\n",
    "random.seed(42)"
   ]
  },
  {
   "cell_type": "code",
   "execution_count": 4,
   "id": "a579ccc4",
   "metadata": {},
   "outputs": [],
   "source": [
    "class MaintenanceEnv(gym.Env):\n",
    "    def __init__(self):\n",
    "        super().__init__()\n",
    "        self.max_rul = 100\n",
    "        self.rul = self.max_rul\n",
    "        self.time = 0\n",
    "        self.done = False\n",
    "        self.action_space = spaces.Discrete(2)  # 0 = do nothing, 1 = perform maintenance\n",
    "        self.observation_space = spaces.Box(low=0, high=self.max_rul, shape=(1,), dtype=np.float32)\n",
    "        self.maintenance_cost = 30\n",
    "        self.failure_cost = 100\n",
    "\n",
    "    def reset(self):\n",
    "        self.rul = self.max_rul\n",
    "        self.time = 0\n",
    "        self.done = False\n",
    "        return np.array([self.rul], dtype=np.float32)\n",
    "\n",
    "    def step(self, action):\n",
    "        reward = 0\n",
    "        if action == 1:  # perform maintenance\n",
    "            reward = -self.maintenance_cost\n",
    "            self.rul = self.max_rul\n",
    "        else:  # no maintenance\n",
    "            self.rul -= np.random.randint(1, 10)\n",
    "            if self.rul <= 0:\n",
    "                reward = -self.failure_cost\n",
    "                self.done = True\n",
    "\n",
    "        self.time += 1\n",
    "        if self.time >= 50:\n",
    "            self.done = True\n",
    "\n",
    "        return np.array([self.rul], dtype=np.float32), reward, self.done, {}"
   ]
  },
  {
   "cell_type": "code",
   "execution_count": 5,
   "id": "a1bda33a",
   "metadata": {},
   "outputs": [],
   "source": [
    "# Simple Q-learning agent for scheduling\n",
    "env = MaintenanceEnv()\n",
    "q_table = np.zeros((env.max_rul+1, env.action_space.n))\n",
    "\n",
    "alpha = 0.1\n",
    "gamma = 0.95\n",
    "epsilon = 0.1\n",
    "episodes = 1000\n",
    "\n",
    "for ep in range(episodes):\n",
    "    state = env.reset()[0]\n",
    "    done = False\n",
    "    while not done:\n",
    "        state_idx = int(state)\n",
    "        if random.uniform(0, 1) < epsilon:\n",
    "            action = env.action_space.sample()\n",
    "        else:\n",
    "            action = np.argmax(q_table[state_idx])\n",
    "        next_state, reward, done, _ = env.step(action)\n",
    "        next_state_idx = int(next_state[0])\n",
    "        q_table[state_idx, action] += alpha * (reward + gamma * np.max(q_table[next_state_idx]) - q_table[state_idx, action])\n",
    "        state = next_state[0]"
   ]
  },
  {
   "cell_type": "code",
   "execution_count": 6,
   "id": "d76be9bb",
   "metadata": {},
   "outputs": [
    {
     "data": {
      "image/png": "[encoded data removed]",
      "text/plain": [
       "<Figure size 1000x400 with 1 Axes>"
      ]
     },
     "metadata": {},
     "output_type": "display_data"
    }
   ],
   "source": [
    "# Evaluate learned policy\n",
    "maintenance_policy = [np.argmax(q_table[rul]) for rul in range(env.max_rul+1)]\n",
    "plt.figure(figsize=(10,4))\n",
    "plt.plot(maintenance_policy)\n",
    "plt.title('RL Maintenance Policy: 0=No Maintenance, 1=Maintenance')\n",
    "plt.xlabel('RUL')\n",
    "plt.ylabel('Action')\n",
    "plt.grid(True)\n",
    "plt.show()"
   ]
  }
 ],
 "metadata": {
  "kernelspec": {
   "display_name": "3.10.14",
   "language": "python",
   "name": "python3"
  },
  "language_info": {
   "codemirror_mode": {
    "name": "ipython",
    "version": 3
   },
   "file_extension": ".py",
   "mimetype": "text/x-python",
   "name": "python",
   "nbconvert_exporter": "python",
   "pygments_lexer": "ipython3",
   "version": "3.10.14"
  }
 },
 "nbformat": 4,
 "nbformat_minor": 5
}
