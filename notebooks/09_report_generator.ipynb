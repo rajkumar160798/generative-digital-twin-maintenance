{
 "cells": [
  {
   "cell_type": "markdown",
   "id": "7e9704ae",
   "metadata": {},
   "source": [
    "# Final Summary Report Generator\n",
    "This notebook compiles key plots, metrics, and insights from our generative digital twin pipeline. It can be exported as PDF or HTML for reports and reproducibility."
   ]
  },
  {
   "cell_type": "code",
   "execution_count": 1,
   "id": "6e71c479",
   "metadata": {},
   "outputs": [],
   "source": [
    "import os\n",
    "import pandas as pd\n",
    "import matplotlib.pyplot as plt\n",
    "from IPython.display import Markdown, display\n",
    "\n",
    "def md(text):\n",
    "    display(Markdown(text))"
   ]
  },
  {
   "cell_type": "code",
   "execution_count": 2,
   "id": "94c7e14a",
   "metadata": {},
   "outputs": [
    {
     "data": {
      "text/markdown": [
       "\n",
       "## Project Overview\n",
       "- We developed a **Generative AI-Enhanced Digital Twin** system across three datasets (C-MAPSS, AI4I, XJTU-SY).\n",
       "- Modules include: Data preprocessing, GAN-based fault synthesis, RUL prediction (LSTM), SHAP explainability, and RL-based maintenance scheduler.\n",
       "- All modules are aligned with scientific reproducibility and prior reviewer feedback for generalizability, rigor, and interpretability.\n"
      ],
      "text/plain": [
       "<IPython.core.display.Markdown object>"
      ]
     },
     "metadata": {},
     "output_type": "display_data"
    }
   ],
   "source": [
    "md('''\n",
    "## Project Overview\n",
    "- We developed a **Generative AI-Enhanced Digital Twin** system across three datasets (C-MAPSS, AI4I, XJTU-SY).\n",
    "- Modules include: Data preprocessing, GAN-based fault synthesis, RUL prediction (LSTM), SHAP explainability, and RL-based maintenance scheduler.\n",
    "- All modules are aligned with scientific reproducibility and prior reviewer feedback for generalizability, rigor, and interpretability.\n",
    "''')"
   ]
  },
  {
   "cell_type": "code",
   "execution_count": 3,
   "id": "356b1340",
   "metadata": {},
   "outputs": [
    {
     "ename": "FileNotFoundError",
     "evalue": "[Errno 2] No such file or directory: '../plots'",
     "output_type": "error",
     "traceback": [
      "\u001b[0;31m---------------------------------------------------------------------------\u001b[0m",
      "\u001b[0;31mFileNotFoundError\u001b[0m                         Traceback (most recent call last)",
      "Cell \u001b[0;32mIn[3], line 2\u001b[0m\n\u001b[1;32m      1\u001b[0m \u001b[38;5;66;03m# Load plots from disk\u001b[39;00m\n\u001b[0;32m----> 2\u001b[0m fig_paths \u001b[38;5;241m=\u001b[39m \u001b[38;5;28msorted\u001b[39m([f \u001b[38;5;28;01mfor\u001b[39;00m f \u001b[38;5;129;01min\u001b[39;00m \u001b[43mos\u001b[49m\u001b[38;5;241;43m.\u001b[39;49m\u001b[43mlistdir\u001b[49m\u001b[43m(\u001b[49m\u001b[38;5;124;43m'\u001b[39;49m\u001b[38;5;124;43m../plots\u001b[39;49m\u001b[38;5;124;43m'\u001b[39;49m\u001b[43m)\u001b[49m \u001b[38;5;28;01mif\u001b[39;00m f\u001b[38;5;241m.\u001b[39mendswith(\u001b[38;5;124m'\u001b[39m\u001b[38;5;124m.png\u001b[39m\u001b[38;5;124m'\u001b[39m)])\n\u001b[1;32m      3\u001b[0m \u001b[38;5;28;01mfor\u001b[39;00m f \u001b[38;5;129;01min\u001b[39;00m fig_paths:\n\u001b[1;32m      4\u001b[0m     img_path \u001b[38;5;241m=\u001b[39m os\u001b[38;5;241m.\u001b[39mpath\u001b[38;5;241m.\u001b[39mjoin(\u001b[38;5;124m'\u001b[39m\u001b[38;5;124m../plots\u001b[39m\u001b[38;5;124m'\u001b[39m, f)\n",
      "\u001b[0;31mFileNotFoundError\u001b[0m: [Errno 2] No such file or directory: '../plots'"
     ]
    }
   ],
   "source": [
    "# Load plots from disk\n",
    "fig_paths = sorted([f for f in os.listdir('../plots') if f.endswith('.png')])\n",
    "for f in fig_paths:\n",
    "    img_path = os.path.join('../plots', f)\n",
    "    img = plt.imread(img_path)\n",
    "    plt.figure(figsize=(10,4))\n",
    "    plt.imshow(img)\n",
    "    plt.axis('off')\n",
    "    plt.title(f)\n",
    "    plt.show()"
   ]
  },
  {
   "cell_type": "code",
   "execution_count": null,
   "id": "278cad8f",
   "metadata": {},
   "outputs": [],
   "source": [
    "# Optional: Load evaluation metrics from CSV\n",
    "if os.path.exists('../results/metrics.csv'):\n",
    "    df = pd.read_csv('../results/metrics.csv')\n",
    "    md('### Evaluation Metrics')\n",
    "    display(df.head())\n",
    "else:\n",
    "    md('*No metrics.csv found in results folder.*')"
   ]
  },
  {
   "cell_type": "code",
   "execution_count": null,
   "id": "c42e05b0",
   "metadata": {},
   "outputs": [],
   "source": [
    "md('''\n",
    "## Final Notes\n",
    "- This project supports resubmission to IEEE conferences with strengthened results.\n",
    "- PDF export (File → Download as → PDF via browser or nbconvert) is supported.\n",
    "- GitHub README and LaTeX paper can be auto-generated from this notebook content.\n",
    "''')"
   ]
  }
 ],
 "metadata": {
  "kernelspec": {
   "display_name": "3.10.14",
   "language": "python",
   "name": "python3"
  },
  "language_info": {
   "codemirror_mode": {
    "name": "ipython",
    "version": 3
   },
   "file_extension": ".py",
   "mimetype": "text/x-python",
   "name": "python",
   "nbconvert_exporter": "python",
   "pygments_lexer": "ipython3",
   "version": "3.10.14"
  }
 },
 "nbformat": 4,
 "nbformat_minor": 5
}
