{
 "cells": [
  {
   "cell_type": "markdown",
   "id": "7863abda",
   "metadata": {},
   "source": [
    "## Evaluation Metrics for RUL Prediction\n",
    "This section computes RMSE, MAE, and R² scores for AI4I, XJTU, and C-MAPSS datasets."
   ]
  },
  {
   "cell_type": "code",
   "execution_count": 1,
   "id": "466a4c13",
   "metadata": {},
   "outputs": [
    {
     "ename": "FileNotFoundError",
     "evalue": "[Errno 2] No such file or directory: '../data/processed/y_true.npy'",
     "output_type": "error",
     "traceback": [
      "\u001b[0;31m---------------------------------------------------------------------------\u001b[0m",
      "\u001b[0;31mFileNotFoundError\u001b[0m                         Traceback (most recent call last)",
      "Cell \u001b[0;32mIn[1], line 6\u001b[0m\n\u001b[1;32m      3\u001b[0m \u001b[38;5;28;01mimport\u001b[39;00m \u001b[38;5;21;01mnumpy\u001b[39;00m \u001b[38;5;28;01mas\u001b[39;00m \u001b[38;5;21;01mnp\u001b[39;00m\n\u001b[1;32m      5\u001b[0m \u001b[38;5;66;03m# Example placeholders\u001b[39;00m\n\u001b[0;32m----> 6\u001b[0m y_true \u001b[38;5;241m=\u001b[39m \u001b[43mnp\u001b[49m\u001b[38;5;241;43m.\u001b[39;49m\u001b[43mload\u001b[49m\u001b[43m(\u001b[49m\u001b[38;5;124;43m'\u001b[39;49m\u001b[38;5;124;43m../data/processed/y_true.npy\u001b[39;49m\u001b[38;5;124;43m'\u001b[39;49m\u001b[43m)\u001b[49m\n\u001b[1;32m      7\u001b[0m y_pred \u001b[38;5;241m=\u001b[39m np\u001b[38;5;241m.\u001b[39mload(\u001b[38;5;124m'\u001b[39m\u001b[38;5;124m../data/processed/y_pred.npy\u001b[39m\u001b[38;5;124m'\u001b[39m)\n\u001b[1;32m      9\u001b[0m rmse \u001b[38;5;241m=\u001b[39m np\u001b[38;5;241m.\u001b[39msqrt(mean_squared_error(y_true, y_pred))\n",
      "File \u001b[0;32m~/.pyenv/versions/3.10.14/lib/python3.10/site-packages/numpy/lib/npyio.py:405\u001b[0m, in \u001b[0;36mload\u001b[0;34m(file, mmap_mode, allow_pickle, fix_imports, encoding, max_header_size)\u001b[0m\n\u001b[1;32m    403\u001b[0m     own_fid \u001b[38;5;241m=\u001b[39m \u001b[38;5;28;01mFalse\u001b[39;00m\n\u001b[1;32m    404\u001b[0m \u001b[38;5;28;01melse\u001b[39;00m:\n\u001b[0;32m--> 405\u001b[0m     fid \u001b[38;5;241m=\u001b[39m stack\u001b[38;5;241m.\u001b[39menter_context(\u001b[38;5;28;43mopen\u001b[39;49m\u001b[43m(\u001b[49m\u001b[43mos_fspath\u001b[49m\u001b[43m(\u001b[49m\u001b[43mfile\u001b[49m\u001b[43m)\u001b[49m\u001b[43m,\u001b[49m\u001b[43m \u001b[49m\u001b[38;5;124;43m\"\u001b[39;49m\u001b[38;5;124;43mrb\u001b[39;49m\u001b[38;5;124;43m\"\u001b[39;49m\u001b[43m)\u001b[49m)\n\u001b[1;32m    406\u001b[0m     own_fid \u001b[38;5;241m=\u001b[39m \u001b[38;5;28;01mTrue\u001b[39;00m\n\u001b[1;32m    408\u001b[0m \u001b[38;5;66;03m# Code to distinguish from NumPy binary files and pickles.\u001b[39;00m\n",
      "\u001b[0;31mFileNotFoundError\u001b[0m: [Errno 2] No such file or directory: '../data/processed/y_true.npy'"
     ]
    }
   ],
   "source": [
    "\n",
    "from sklearn.metrics import mean_squared_error, mean_absolute_error, r2_score\n",
    "import pandas as pd\n",
    "import numpy as np\n",
    "\n",
    "# Example placeholders\n",
    "y_true = np.load('../data/processed/y_true.npy')\n",
    "y_pred = np.load('../data/processed/y_pred.npy')\n",
    "\n",
    "rmse = np.sqrt(mean_squared_error(y_true, y_pred))\n",
    "mae = mean_absolute_error(y_true, y_pred)\n",
    "r2 = r2_score(y_true, y_pred)\n",
    "\n",
    "print(f\"RMSE: {rmse:.2f}\")\n",
    "print(f\"MAE: {mae:.2f}\")\n",
    "print(f\"R²: {r2:.2f}\")\n"
   ]
  },
  {
   "cell_type": "markdown",
   "id": "a3fac019",
   "metadata": {},
   "source": [
    "## Quantitative Comparison: With vs Without GAN Augmentation"
   ]
  },
  {
   "cell_type": "code",
   "execution_count": null,
   "id": "98258d4f",
   "metadata": {},
   "outputs": [],
   "source": [
    "\n",
    "# Placeholder logic\n",
    "rmse_gan = 32.5\n",
    "rmse_no_gan = 42.8\n",
    "\n",
    "print(f\"RMSE With GAN: {rmse_gan}\")\n",
    "print(f\"RMSE Without GAN: {rmse_no_gan}\")\n",
    "improvement = ((rmse_no_gan - rmse_gan) / rmse_no_gan) * 100\n",
    "print(f\"Improvement: {improvement:.2f}%\")\n"
   ]
  },
  {
   "cell_type": "markdown",
   "id": "09439e80",
   "metadata": {},
   "source": [
    "## FID & MMD Calculation for Synthetic vs Real Sequences"
   ]
  },
  {
   "cell_type": "code",
   "execution_count": null,
   "id": "51400e7d",
   "metadata": {},
   "outputs": [],
   "source": [
    "\n",
    "from scipy.linalg import sqrtm\n",
    "\n",
    "def calculate_fid(real_features, fake_features):\n",
    "    mu1, sigma1 = real_features.mean(axis=0), np.cov(real_features, rowvar=False)\n",
    "    mu2, sigma2 = fake_features.mean(axis=0), np.cov(fake_features, rowvar=False)\n",
    "    diff = mu1 - mu2\n",
    "    covmean = sqrtm(sigma1.dot(sigma2))\n",
    "    fid = diff.dot(diff) + np.trace(sigma1 + sigma2 - 2 * covmean.real)\n",
    "    return fid\n",
    "\n",
    "# Load real/fake feature vectors (example)\n",
    "real = np.load('../data/processed/real_latents.npy')\n",
    "fake = np.load('../data/processed/fake_latents.npy')\n",
    "fid_score = calculate_fid(real, fake)\n",
    "print(f\"FID Score: {fid_score:.2f}\")\n"
   ]
  },
  {
   "cell_type": "markdown",
   "id": "5232b169",
   "metadata": {},
   "source": [
    "## Sample-level SHAP Explanation for One Unit"
   ]
  },
  {
   "cell_type": "code",
   "execution_count": null,
   "id": "a4a35f3b",
   "metadata": {},
   "outputs": [],
   "source": [
    "\n",
    "import shap\n",
    "import torch\n",
    "from torch.utils.data import DataLoader\n",
    "from model import LSTMModel  # assuming your model file\n",
    "from dataset import RULDataset  # assuming your dataset file\n",
    "import matplotlib.pyplot as plt\n",
    "\n",
    "model = LSTMModel()\n",
    "model.load_state_dict(torch.load('../models/lstm_rul_model.pth'))\n",
    "model.eval()\n",
    "\n",
    "dataset = RULDataset(pd.read_csv('../data/processed/final_cmapss.csv'))\n",
    "loader = DataLoader(dataset, batch_size=1, shuffle=False)\n",
    "sample = next(iter(loader))[0]\n",
    "\n",
    "explainer = shap.DeepExplainer(model, sample)\n",
    "shap_values = explainer.shap_values(sample)\n",
    "\n",
    "shap.image_plot([shap_values[0]], sample.numpy())\n"
   ]
  }
 ],
 "metadata": {
  "kernelspec": {
   "display_name": "3.10.14",
   "language": "python",
   "name": "python3"
  },
  "language_info": {
   "codemirror_mode": {
    "name": "ipython",
    "version": 3
   },
   "file_extension": ".py",
   "mimetype": "text/x-python",
   "name": "python",
   "nbconvert_exporter": "python",
   "pygments_lexer": "ipython3",
   "version": "3.10.14"
  }
 },
 "nbformat": 4,
 "nbformat_minor": 5
}
